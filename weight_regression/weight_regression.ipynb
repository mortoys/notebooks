{
 "cells": [
  {
   "cell_type": "markdown",
   "id": "78a30a78",
   "metadata": {},
   "source": [
    "## 体重数据的回归和可视化\n",
    "\n",
    "\n",
    "通过 [Simple Health Export CSV](https://apps.apple.com/cn/app/simple-health-export-csv/id1535380115) 可以导出 iOS 记录的体重秤的数据。\n",
    "<br><br>\n",
    "在 2022年中 通过三个月时间减肥超过 30斤 的经历中发挥了很大的作用。\n",
    "\n",
    "代码很简单，但是激励的效果很好"
   ]
  },
  {
   "cell_type": "code",
   "execution_count": 1,
   "id": "446cfbaf",
   "metadata": {},
   "outputs": [],
   "source": [
    "import datetime as dt\n",
    "import seaborn as sns\n",
    "import pandas as pd\n",
    "from scipy import stats"
   ]
  },
  {
   "cell_type": "code",
   "execution_count": 2,
   "id": "d65e69d7",
   "metadata": {},
   "outputs": [],
   "source": [
    "table = pd.read_csv('./HKQuantityTypeIdentifierBodyMass.csv', skiprows=1)"
   ]
  },
  {
   "cell_type": "code",
   "execution_count": 3,
   "id": "44012b4d",
   "metadata": {},
   "outputs": [],
   "source": [
    "data = table[['startDate', 'value']].copy()"
   ]
  },
  {
   "cell_type": "code",
   "execution_count": 4,
   "id": "b5cf21da",
   "metadata": {},
   "outputs": [
    {
     "data": {
      "text/html": [
       "<div>\n",
       "<style scoped>\n",
       "    .dataframe tbody tr th:only-of-type {\n",
       "        vertical-align: middle;\n",
       "    }\n",
       "\n",
       "    .dataframe tbody tr th {\n",
       "        vertical-align: top;\n",
       "    }\n",
       "\n",
       "    .dataframe thead th {\n",
       "        text-align: right;\n",
       "    }\n",
       "</style>\n",
       "<table border=\"1\" class=\"dataframe\">\n",
       "  <thead>\n",
       "    <tr style=\"text-align: right;\">\n",
       "      <th></th>\n",
       "      <th>startDate</th>\n",
       "      <th>value</th>\n",
       "    </tr>\n",
       "  </thead>\n",
       "  <tbody>\n",
       "    <tr>\n",
       "      <th>0</th>\n",
       "      <td>2022-03-11 13:31:34 +0000</td>\n",
       "      <td>83.049995</td>\n",
       "    </tr>\n",
       "    <tr>\n",
       "      <th>1</th>\n",
       "      <td>2022-03-11 13:31:34 +0000</td>\n",
       "      <td>83.049995</td>\n",
       "    </tr>\n",
       "    <tr>\n",
       "      <th>2</th>\n",
       "      <td>2022-03-12 15:48:34 +0000</td>\n",
       "      <td>81.650002</td>\n",
       "    </tr>\n",
       "    <tr>\n",
       "      <th>3</th>\n",
       "      <td>2022-03-12 15:48:34 +0000</td>\n",
       "      <td>81.650002</td>\n",
       "    </tr>\n",
       "    <tr>\n",
       "      <th>4</th>\n",
       "      <td>2022-03-12 15:48:50 +0000</td>\n",
       "      <td>81.650002</td>\n",
       "    </tr>\n",
       "    <tr>\n",
       "      <th>...</th>\n",
       "      <td>...</td>\n",
       "      <td>...</td>\n",
       "    </tr>\n",
       "    <tr>\n",
       "      <th>514</th>\n",
       "      <td>2022-05-28 12:10:35 +0000</td>\n",
       "      <td>68.150002</td>\n",
       "    </tr>\n",
       "    <tr>\n",
       "      <th>515</th>\n",
       "      <td>2022-05-29 23:09:12 +0000</td>\n",
       "      <td>69.000000</td>\n",
       "    </tr>\n",
       "    <tr>\n",
       "      <th>516</th>\n",
       "      <td>2022-05-29 23:09:12 +0000</td>\n",
       "      <td>69.000000</td>\n",
       "    </tr>\n",
       "    <tr>\n",
       "      <th>517</th>\n",
       "      <td>2022-05-29 23:09:18 +0000</td>\n",
       "      <td>69.000000</td>\n",
       "    </tr>\n",
       "    <tr>\n",
       "      <th>518</th>\n",
       "      <td>2022-05-29 23:09:18 +0000</td>\n",
       "      <td>69.000000</td>\n",
       "    </tr>\n",
       "  </tbody>\n",
       "</table>\n",
       "<p>519 rows × 2 columns</p>\n",
       "</div>"
      ],
      "text/plain": [
       "                     startDate      value\n",
       "0    2022-03-11 13:31:34 +0000  83.049995\n",
       "1    2022-03-11 13:31:34 +0000  83.049995\n",
       "2    2022-03-12 15:48:34 +0000  81.650002\n",
       "3    2022-03-12 15:48:34 +0000  81.650002\n",
       "4    2022-03-12 15:48:50 +0000  81.650002\n",
       "..                         ...        ...\n",
       "514  2022-05-28 12:10:35 +0000  68.150002\n",
       "515  2022-05-29 23:09:12 +0000  69.000000\n",
       "516  2022-05-29 23:09:12 +0000  69.000000\n",
       "517  2022-05-29 23:09:18 +0000  69.000000\n",
       "518  2022-05-29 23:09:18 +0000  69.000000\n",
       "\n",
       "[519 rows x 2 columns]"
      ]
     },
     "execution_count": 4,
     "metadata": {},
     "output_type": "execute_result"
    }
   ],
   "source": [
    "data"
   ]
  },
  {
   "cell_type": "code",
   "execution_count": 5,
   "id": "70b972ec",
   "metadata": {},
   "outputs": [
    {
     "data": {
      "text/plain": [
       "startDate     object\n",
       "value        float64\n",
       "dtype: object"
      ]
     },
     "execution_count": 5,
     "metadata": {},
     "output_type": "execute_result"
    }
   ],
   "source": [
    "data.dtypes"
   ]
  },
  {
   "cell_type": "markdown",
   "id": "ea90cb2b",
   "metadata": {},
   "source": [
    "将时间换算成时间戳"
   ]
  },
  {
   "cell_type": "code",
   "execution_count": 6,
   "id": "b896be50",
   "metadata": {},
   "outputs": [],
   "source": [
    "data['startDate'] = pd.to_datetime(data['startDate']).dt.tz_convert(tz='Asia/Shanghai')\n",
    "data['dt'] = data['startDate'].map(dt.datetime.timestamp)"
   ]
  },
  {
   "cell_type": "code",
   "execution_count": 7,
   "id": "5042c091",
   "metadata": {},
   "outputs": [
    {
     "data": {
      "text/html": [
       "<div>\n",
       "<style scoped>\n",
       "    .dataframe tbody tr th:only-of-type {\n",
       "        vertical-align: middle;\n",
       "    }\n",
       "\n",
       "    .dataframe tbody tr th {\n",
       "        vertical-align: top;\n",
       "    }\n",
       "\n",
       "    .dataframe thead th {\n",
       "        text-align: right;\n",
       "    }\n",
       "</style>\n",
       "<table border=\"1\" class=\"dataframe\">\n",
       "  <thead>\n",
       "    <tr style=\"text-align: right;\">\n",
       "      <th></th>\n",
       "      <th>startDate</th>\n",
       "      <th>value</th>\n",
       "      <th>dt</th>\n",
       "    </tr>\n",
       "  </thead>\n",
       "  <tbody>\n",
       "    <tr>\n",
       "      <th>0</th>\n",
       "      <td>2022-03-11 21:31:34+08:00</td>\n",
       "      <td>83.049995</td>\n",
       "      <td>1.647005e+09</td>\n",
       "    </tr>\n",
       "    <tr>\n",
       "      <th>1</th>\n",
       "      <td>2022-03-11 21:31:34+08:00</td>\n",
       "      <td>83.049995</td>\n",
       "      <td>1.647005e+09</td>\n",
       "    </tr>\n",
       "    <tr>\n",
       "      <th>2</th>\n",
       "      <td>2022-03-12 23:48:34+08:00</td>\n",
       "      <td>81.650002</td>\n",
       "      <td>1.647100e+09</td>\n",
       "    </tr>\n",
       "    <tr>\n",
       "      <th>3</th>\n",
       "      <td>2022-03-12 23:48:34+08:00</td>\n",
       "      <td>81.650002</td>\n",
       "      <td>1.647100e+09</td>\n",
       "    </tr>\n",
       "    <tr>\n",
       "      <th>4</th>\n",
       "      <td>2022-03-12 23:48:50+08:00</td>\n",
       "      <td>81.650002</td>\n",
       "      <td>1.647100e+09</td>\n",
       "    </tr>\n",
       "    <tr>\n",
       "      <th>...</th>\n",
       "      <td>...</td>\n",
       "      <td>...</td>\n",
       "      <td>...</td>\n",
       "    </tr>\n",
       "    <tr>\n",
       "      <th>514</th>\n",
       "      <td>2022-05-28 20:10:35+08:00</td>\n",
       "      <td>68.150002</td>\n",
       "      <td>1.653740e+09</td>\n",
       "    </tr>\n",
       "    <tr>\n",
       "      <th>515</th>\n",
       "      <td>2022-05-30 07:09:12+08:00</td>\n",
       "      <td>69.000000</td>\n",
       "      <td>1.653866e+09</td>\n",
       "    </tr>\n",
       "    <tr>\n",
       "      <th>516</th>\n",
       "      <td>2022-05-30 07:09:12+08:00</td>\n",
       "      <td>69.000000</td>\n",
       "      <td>1.653866e+09</td>\n",
       "    </tr>\n",
       "    <tr>\n",
       "      <th>517</th>\n",
       "      <td>2022-05-30 07:09:18+08:00</td>\n",
       "      <td>69.000000</td>\n",
       "      <td>1.653866e+09</td>\n",
       "    </tr>\n",
       "    <tr>\n",
       "      <th>518</th>\n",
       "      <td>2022-05-30 07:09:18+08:00</td>\n",
       "      <td>69.000000</td>\n",
       "      <td>1.653866e+09</td>\n",
       "    </tr>\n",
       "  </tbody>\n",
       "</table>\n",
       "<p>519 rows × 3 columns</p>\n",
       "</div>"
      ],
      "text/plain": [
       "                    startDate      value            dt\n",
       "0   2022-03-11 21:31:34+08:00  83.049995  1.647005e+09\n",
       "1   2022-03-11 21:31:34+08:00  83.049995  1.647005e+09\n",
       "2   2022-03-12 23:48:34+08:00  81.650002  1.647100e+09\n",
       "3   2022-03-12 23:48:34+08:00  81.650002  1.647100e+09\n",
       "4   2022-03-12 23:48:50+08:00  81.650002  1.647100e+09\n",
       "..                        ...        ...           ...\n",
       "514 2022-05-28 20:10:35+08:00  68.150002  1.653740e+09\n",
       "515 2022-05-30 07:09:12+08:00  69.000000  1.653866e+09\n",
       "516 2022-05-30 07:09:12+08:00  69.000000  1.653866e+09\n",
       "517 2022-05-30 07:09:18+08:00  69.000000  1.653866e+09\n",
       "518 2022-05-30 07:09:18+08:00  69.000000  1.653866e+09\n",
       "\n",
       "[519 rows x 3 columns]"
      ]
     },
     "execution_count": 7,
     "metadata": {},
     "output_type": "execute_result"
    }
   ],
   "source": [
    "data"
   ]
  },
  {
   "cell_type": "code",
   "execution_count": 8,
   "id": "9ea911e8",
   "metadata": {},
   "outputs": [],
   "source": [
    "slope, intercept, r_value, p_value, std_err = stats.linregress(data['dt'],data['value'])"
   ]
  },
  {
   "cell_type": "code",
   "execution_count": 9,
   "id": "f4c71517",
   "metadata": {},
   "outputs": [],
   "source": [
    "# data['delta'] = intercept + slope * data['dt'] - data['value']\n",
    "# data['abnormal'] = data['delta'].abs() > data['delta'].std() * 1.5"
   ]
  },
  {
   "cell_type": "code",
   "execution_count": 10,
   "id": "f139b93d",
   "metadata": {},
   "outputs": [
    {
     "data": {
      "image/png": "[encoded data removed]",
      "text/plain": [
       "<Figure size 842.4x595.44 with 1 Axes>"
      ]
     },
     "metadata": {
      "needs_background": "light"
     },
     "output_type": "display_data"
    }
   ],
   "source": [
    "import matplotlib.pyplot as plt\n",
    "import matplotlib.ticker as mticker\n",
    "\n",
    "p = sns.lmplot(data=data, x='dt', y='value', #hue='abnormal',\n",
    "               height=8.27, aspect=11.7/8.27, \n",
    "    )\n",
    "ax = plt.gca()\n",
    "xticks = ax.get_xticks()\n",
    "ax.xaxis.set_major_locator(mticker.FixedLocator(xticks))\n",
    "ax.set_xticklabels([\n",
    "    dt.datetime.fromtimestamp(int(tm)).strftime('%Y-%m-%d') for tm in xticks], rotation=30)\n",
    "plt.show()"
   ]
  },
  {
   "cell_type": "code",
   "execution_count": 11,
   "id": "00b19ab3",
   "metadata": {},
   "outputs": [
    {
     "data": {
      "text/plain": [
       "0.9805452008968942"
      ]
     },
     "execution_count": 11,
     "metadata": {},
     "output_type": "execute_result"
    }
   ],
   "source": [
    "r_value ** 2"
   ]
  },
  {
   "cell_type": "markdown",
   "id": "a2e062d0",
   "metadata": {},
   "source": [
    "和线性模型吻合的非常好"
   ]
  },
  {
   "cell_type": "code",
   "execution_count": 12,
   "id": "6620e823",
   "metadata": {},
   "outputs": [
    {
     "data": {
      "text/plain": [
       "0.1831754849190555"
      ]
     },
     "execution_count": 12,
     "metadata": {},
     "output_type": "execute_result"
    }
   ],
   "source": [
    "daily = -slope * 3600 * 24\n",
    "daily"
   ]
  },
  {
   "cell_type": "markdown",
   "id": "137a325c",
   "metadata": {},
   "source": [
    "\n",
    "斜率是 0.18kg，相当于每日0.36斤"
   ]
  },
  {
   "cell_type": "code",
   "execution_count": 13,
   "id": "81b62684",
   "metadata": {},
   "outputs": [],
   "source": [
    "last_weight = data['value'].iloc[-5:].mean()\n",
    "last_day = data['dt'].iloc[-5:].mean()"
   ]
  },
  {
   "cell_type": "code",
   "execution_count": 14,
   "id": "00627a0a",
   "metadata": {},
   "outputs": [
    {
     "data": {
      "text/plain": [
       "datetime.date(2022, 6, 19)"
      ]
     },
     "execution_count": 14,
     "metadata": {},
     "output_type": "execute_result"
    }
   ],
   "source": [
    "target = 130\n",
    "duration = (last_weight - target / 2) / daily\n",
    "dt.date.fromtimestamp(last_day + duration * 3600 * 24)"
   ]
  },
  {
   "cell_type": "markdown",
   "id": "8b62b855",
   "metadata": {},
   "source": [
    "对于一个目标，可以算出比较确定的时间"
   ]
  },
  {
   "cell_type": "markdown",
   "id": "7e63013e",
   "metadata": {},
   "source": [
    "身体确实是一架机器"
   ]
  }
 ],
 "metadata": {
  "kernelspec": {
   "display_name": "Python 3 (ipykernel)",
   "language": "python",
   "name": "python3"
  },
  "language_info": {
   "codemirror_mode": {
    "name": "ipython",
    "version": 3
   },
   "file_extension": ".py",
   "mimetype": "text/x-python",
   "name": "python",
   "nbconvert_exporter": "python",
   "pygments_lexer": "ipython3",
   "version": "3.9.12"
  }
 },
 "nbformat": 4,
 "nbformat_minor": 5
}
