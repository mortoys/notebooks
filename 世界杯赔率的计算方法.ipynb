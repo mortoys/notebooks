{
 "cells": [
  {
   "cell_type": "markdown",
   "id": "20a6e745",
   "metadata": {},
   "source": [
    "# 世界杯赔率的计算方法"
   ]
  },
  {
   "cell_type": "markdown",
   "id": "6e5b1ac0",
   "metadata": {},
   "source": [
    "这个 notebook 想要验证的是，赌场在计算赔率的时候，到底是不是用泊松分布作为假设的。\n",
    "\n",
    "验证过程：通过把比分的赔率里面的 0:0 1:0 2:0 3:0 4:0 5:0 相加，求出Poission\n",
    "\n",
    "选择 https://www.sporttery.cn/jc/jsq/zqspf/ 中国境内官方体彩的赔率"
   ]
  },
  {
   "cell_type": "code",
   "execution_count": 1,
   "id": "cd89a5af",
   "metadata": {},
   "outputs": [],
   "source": [
    "import requests\n",
    "import numpy as np\n",
    "from scipy.stats import poisson, skellam"
   ]
  },
  {
   "cell_type": "code",
   "execution_count": 2,
   "id": "3ee82399",
   "metadata": {},
   "outputs": [],
   "source": [
    "a = requests.get('https://webapi.sporttery.cn/gateway/jc/football/getMatchCalculatorV1.qry?poolCode=crs&channel=c')\n",
    "b = a.json()"
   ]
  },
  {
   "cell_type": "code",
   "execution_count": 3,
   "id": "664d14e9",
   "metadata": {},
   "outputs": [
    {
     "data": {
      "text/plain": [
       "('[F组4]', '加拿大', '摩洛哥')"
      ]
     },
     "execution_count": 3,
     "metadata": {},
     "output_type": "execute_result"
    }
   ],
   "source": [
    "m = b['value']['matchInfoList'][0]['subMatchList'][0]\n",
    "d = m['crs']\n",
    "m['homeRank'],m['homeTeamAbbName'],m['awayTeamAbbName']"
   ]
  },
  {
   "cell_type": "code",
   "execution_count": 4,
   "id": "85b594ce",
   "metadata": {},
   "outputs": [],
   "source": [
    "a = np.arange(36).reshape(6,6)\n",
    "\n",
    "for i in range(6):\n",
    "    for j in range(6):\n",
    "        a[i][j] = float(d.get('s{:0>2d}s{:0>2d}'.format(i, j), 1e10))"
   ]
  },
  {
   "cell_type": "code",
   "execution_count": 5,
   "id": "05282a51",
   "metadata": {},
   "outputs": [],
   "source": [
    "# 赔率转化为概率\n",
    "r = 1 / a"
   ]
  },
  {
   "cell_type": "code",
   "execution_count": 6,
   "id": "d3e5e7b8",
   "metadata": {},
   "outputs": [],
   "source": [
    "p1 = 0\n",
    "p2 = 0\n",
    "for i in range(6):\n",
    "    for j in range(6):\n",
    "        if i == 0 and r[i][j] > 1e-10:\n",
    "            # 有百分之1.5的抽水\n",
    "            p1 += r[i][j] - 0.015\n",
    "        if j == 0 and r[i][j] > 1e-10:\n",
    "            p2 += r[i][j] - 0.015"
   ]
  },
  {
   "attachments": {},
   "cell_type": "markdown",
   "id": "366ed88e",
   "metadata": {},
   "source": [
    "这里统计了 $Poisson(0)$ 的概率\n",
    "\n",
    "按照 $Poisson(X=k) =  \\frac {\\lambda ^ {k}}{k} $ $ e^ {-\\lambda } $\n",
    "\n",
    "$Poisson(0) =  e^ {-\\lambda } $\n",
    "\n",
    "可得：$\\lambda =  -\\ln{Poisson(0)} $\n"
   ]
  },
  {
   "cell_type": "code",
   "execution_count": 7,
   "id": "94e2eed3",
   "metadata": {},
   "outputs": [
    {
     "data": {
      "text/plain": [
       "(0.8483168979481747, 1.5501213352776808)"
      ]
     },
     "execution_count": 7,
     "metadata": {},
     "output_type": "execute_result"
    }
   ],
   "source": [
    "mu1 = -np.log(p1)\n",
    "mu2 = -np.log(p2)\n",
    "mu1, mu2"
   ]
  },
  {
   "cell_type": "markdown",
   "id": "4e51044d",
   "metadata": {},
   "source": [
    "得到 最终比分概率分布 和 半场比分概率分布"
   ]
  },
  {
   "cell_type": "code",
   "execution_count": 8,
   "id": "df61fab6",
   "metadata": {},
   "outputs": [],
   "source": [
    "matrix = np.zeros((10,10))\n",
    "for i in range(10):\n",
    "    for j in range(10):\n",
    "        matrix[i][j] = poisson(mu1).pmf(i) * poisson(mu2).pmf(j)"
   ]
  },
  {
   "cell_type": "markdown",
   "id": "b362627a",
   "metadata": {},
   "source": [
    "半场比分只要计算 $Poisson(\\frac {\\mu}{2}) $ 即可"
   ]
  },
  {
   "cell_type": "code",
   "execution_count": 9,
   "id": "0badee3f",
   "metadata": {},
   "outputs": [],
   "source": [
    "matrix_half = np.zeros((10,10))\n",
    "for i in range(10):\n",
    "    for j in range(10):\n",
    "        matrix_half[i][j] = poisson(mu1/2).pmf(i) * poisson(mu2/2).pmf(j)"
   ]
  },
  {
   "cell_type": "markdown",
   "id": "6dbbc940",
   "metadata": {},
   "source": [
    "## 比分玩法"
   ]
  },
  {
   "cell_type": "code",
   "execution_count": 10,
   "id": "c79f5dc8",
   "metadata": {},
   "outputs": [
    {
     "name": "stdout",
     "output_type": "stream",
     "text": [
      "比分  估计赔率 - 官方赔率\n",
      "0 : 0 9.02 - 9.00\n",
      "0 : 1 6.22 - 6.00\n",
      "0 : 2 7.74 - 7.00\n",
      "0 : 3 13.09 - 16.00\n",
      "0 : 4 23.89 - 40.00\n",
      "1 : 0 10.30 - 9.00\n",
      "1 : 1 7.17 - 6.00\n",
      "1 : 2 8.88 - 7.00\n",
      "1 : 3 14.74 - 15.00\n",
      "1 : 4 25.95 - 45.00\n",
      "2 : 0 18.98 - 20.00\n",
      "2 : 1 14.15 - 12.00\n",
      "2 : 2 16.87 - 15.00\n",
      "2 : 3 24.82 - 26.00\n",
      "2 : 4 35.89 - 60.00\n",
      "3 : 0 34.19 - 50.00\n",
      "3 : 1 29.13 - 32.00\n",
      "3 : 2 32.15 - 35.00\n",
      "3 : 3 38.85 - 60.00\n",
      "3 : 4 45.00 - nan\n",
      "4 : 0 45.54 - 150.00\n",
      "4 : 1 43.40 - 80.00\n",
      "4 : 2 44.73 - 100.00\n",
      "4 : 3 47.13 - nan\n",
      "4 : 4 48.85 - nan\n"
     ]
    }
   ],
   "source": [
    "print('比分  估计赔率 - 官方赔率')\n",
    "for i in range(5):\n",
    "    for j in range(5):\n",
    "        ratio = 1 / (matrix[i][j] + 0.02)\n",
    "        print(i, ':', j, \n",
    "              '{:.2f}'.format(ratio),\n",
    "              '-', \n",
    "              '{:.2f}'.format(a[i][j] if a[i][j]<1e5 else np.nan))"
   ]
  },
  {
   "cell_type": "markdown",
   "id": "e4865f2c",
   "metadata": {},
   "source": [
    "**赔率较小时比较一致，赔率越大越不准，是因为赔率大时抽水变少了**"
   ]
  },
  {
   "cell_type": "markdown",
   "id": "eee72187",
   "metadata": {},
   "source": [
    "## 计算 胜平负的概率"
   ]
  },
  {
   "cell_type": "code",
   "execution_count": 11,
   "id": "09db79f9",
   "metadata": {},
   "outputs": [
    {
     "data": {
      "text/plain": [
       "4.073500559985871"
      ]
     },
     "execution_count": 11,
     "metadata": {},
     "output_type": "execute_result"
    }
   ],
   "source": [
    "k = 0\n",
    "for i in range(10):\n",
    "    for j in range(10):\n",
    "        if i > j:\n",
    "            k += matrix[i][j]\n",
    "1 / (k + 0.04)"
   ]
  },
  {
   "cell_type": "code",
   "execution_count": 12,
   "id": "fc929ea6",
   "metadata": {},
   "outputs": [
    {
     "data": {
      "text/plain": [
       "3.3800326346340763"
      ]
     },
     "execution_count": 12,
     "metadata": {},
     "output_type": "execute_result"
    }
   ],
   "source": [
    "k = 0\n",
    "for i in range(10):\n",
    "    for j in range(10):\n",
    "        if i == j:\n",
    "            k += matrix[i][j]\n",
    "1 / (k + 0.04)"
   ]
  },
  {
   "cell_type": "code",
   "execution_count": 13,
   "id": "4a449543",
   "metadata": {},
   "outputs": [
    {
     "data": {
      "text/plain": [
       "1.7281594810443073"
      ]
     },
     "execution_count": 13,
     "metadata": {},
     "output_type": "execute_result"
    }
   ],
   "source": [
    "k = 0\n",
    "for i in range(10):\n",
    "    for j in range(10):\n",
    "        if i < j:\n",
    "            k += matrix[i][j]\n",
    "1 / (k + 0.04)"
   ]
  },
  {
   "cell_type": "markdown",
   "id": "731cdf9b",
   "metadata": {},
   "source": [
    "4.07 3.38 1.73 和官网赔率（3.90 3.25 1.74）基本一致\n",
    "\n",
    "让球玩法同理"
   ]
  },
  {
   "cell_type": "markdown",
   "id": "f6d92eac",
   "metadata": {},
   "source": [
    "## 计算总进球数"
   ]
  },
  {
   "cell_type": "code",
   "execution_count": 14,
   "id": "0de21578",
   "metadata": {},
   "outputs": [
    {
     "data": {
      "text/plain": [
       "array([ 9.02040688,  4.20306725,  3.5544736 ,  4.36810092,  6.88335998,\n",
       "       12.48528995, 22.71588387, 35.92293235, 45.3429064 , 48.93902165,\n",
       "       49.81592016, 49.97521836, 49.99773447, 50.        , 50.        ])"
      ]
     },
     "execution_count": 14,
     "metadata": {},
     "output_type": "execute_result"
    }
   ],
   "source": [
    "k = np.zeros(15)\n",
    "for i in range(7):\n",
    "    for j in range(7):\n",
    "        k[i+j] += matrix[i][j]\n",
    "1 / (k + 0.02)"
   ]
  },
  {
   "cell_type": "markdown",
   "id": "ff321501",
   "metadata": {},
   "source": [
    "9.50 4.25 3.20 3.65 6.00 12.50 21.00 30.00 **（官方赔率）**\n",
    "\n",
    "9.02 4.20 3.55 4.37 6.88 12.48 22.71, 35.92\n",
    "\n",
    "基本一致"
   ]
  },
  {
   "cell_type": "markdown",
   "id": "529bab6c",
   "metadata": {},
   "source": [
    "## 半全场胜平负"
   ]
  },
  {
   "cell_type": "markdown",
   "id": "c1514b79",
   "metadata": {},
   "source": [
    "先计算半场的概率分布，然后将两个半场叠加起来"
   ]
  },
  {
   "cell_type": "code",
   "execution_count": 15,
   "id": "686b5794",
   "metadata": {},
   "outputs": [],
   "source": [
    "from collections import defaultdict\n",
    "k = defaultdict(lambda: 0)\n",
    "for i in range(10):\n",
    "    for j in range(10):\n",
    "        k[i-j] += matrix_half[i][j]"
   ]
  },
  {
   "cell_type": "code",
   "execution_count": 16,
   "id": "449fb6e6",
   "metadata": {},
   "outputs": [
    {
     "data": {
      "text/plain": [
       "defaultdict(<function __main__.<lambda>()>,\n",
       "            {0: 0.4089719854781275,\n",
       "             -1: 0.274190986013359,\n",
       "             -2: 0.10087530780157698,\n",
       "             -3: 0.025377386924497928,\n",
       "             -4: 0.0048385754059646876,\n",
       "             -5: 0.0007419699619504091,\n",
       "             -6: 9.510518411010854e-05,\n",
       "             -7: 1.046906360502788e-05,\n",
       "             -8: 1.0090941611531775e-06,\n",
       "             -9: 8.383859760872303e-08,\n",
       "             1: 0.15005331608995442,\n",
       "             2: 0.030211321412599614,\n",
       "             3: 0.004159337617730819,\n",
       "             4: 0.00043399748261377846,\n",
       "             5: 3.642071307788139e-05,\n",
       "             6: 2.554810755422789e-06,\n",
       "             7: 1.5390573658406238e-07,\n",
       "             8: 8.118411987629619e-09,\n",
       "             9: 3.6912700835413905e-10})"
      ]
     },
     "execution_count": 16,
     "metadata": {},
     "output_type": "execute_result"
    }
   ],
   "source": [
    "k"
   ]
  },
  {
   "cell_type": "code",
   "execution_count": 17,
   "id": "a51a213d",
   "metadata": {},
   "outputs": [],
   "source": [
    "def word(num):\n",
    "    if num > 0:\n",
    "        return '胜'\n",
    "    if num == 0:\n",
    "        return '平'\n",
    "    if num < 0:\n",
    "        return '负'"
   ]
  },
  {
   "cell_type": "code",
   "execution_count": 18,
   "id": "f8872814",
   "metadata": {},
   "outputs": [],
   "source": [
    "kk = defaultdict(float)\n",
    "for i in range(-10,10):\n",
    "    for j in range(-10,10):\n",
    "        kk[word(i), word(i+j)] += k[i] * k[j]"
   ]
  },
  {
   "cell_type": "code",
   "execution_count": 19,
   "id": "987a0d33",
   "metadata": {},
   "outputs": [
    {
     "data": {
      "text/plain": [
       "defaultdict(float,\n",
       "            {('负', '负'): 0.3517990107431333,\n",
       "             ('负', '平'): 0.04429852335715791,\n",
       "             ('负', '胜'): 0.010033354836228211,\n",
       "             ('平', '负'): 0.16609615779192646,\n",
       "             ('平', '平'): 0.16725808490592176,\n",
       "             ('平', '胜'): 0.07561773839853625,\n",
       "             ('胜', '负'): 0.020760550468441864,\n",
       "             ('胜', '平'): 0.044298523357157914,\n",
       "             ('胜', '胜'): 0.11983803471341238})"
      ]
     },
     "execution_count": 19,
     "metadata": {},
     "output_type": "execute_result"
    }
   ],
   "source": [
    "# 半全场 概率分布\n",
    "kk"
   ]
  },
  {
   "cell_type": "code",
   "execution_count": 20,
   "id": "1b31f566",
   "metadata": {},
   "outputs": [
    {
     "name": "stdout",
     "output_type": "stream",
     "text": [
      "('负', '负') 2.689625230581571\n",
      "('负', '平') 15.552456693994621\n",
      "('负', '胜') 33.29631356380254\n",
      "('平', '负') 5.373566073933117\n",
      "('平', '平') 5.34022336339923\n",
      "('平', '胜') 10.458310526358447\n",
      "('胜', '负') 24.533525394222348\n",
      "('胜', '平') 15.552456693994621\n",
      "('胜', '胜') 7.151130249001463\n"
     ]
    }
   ],
   "source": [
    "for key in kk.keys():\n",
    "    print(key, 1 / (kk[key] + 0.02))"
   ]
  },
  {
   "cell_type": "markdown",
   "id": "beec9129",
   "metadata": {},
   "source": [
    "半全场赔率：\n",
    "\n",
    "6.40 15.00 25.00 8.50 4.70 4.25 32.00 15.00 3.05 **（官方赔率）**\n",
    "\n",
    "6.51 15.14 24.55 9.78 5.30 5.56 32.03 15.14 2.84\n",
    "\n",
    "差距很小"
   ]
  },
  {
   "cell_type": "markdown",
   "id": "0dc32a2f",
   "metadata": {},
   "source": [
    "## 算出所有的 μ"
   ]
  },
  {
   "cell_type": "code",
   "execution_count": 21,
   "id": "74da0c29",
   "metadata": {},
   "outputs": [
    {
     "name": "stdout",
     "output_type": "stream",
     "text": [
      "[F组4] 加拿大 摩洛哥 0.85 1.55\n",
      "[F组1] 克罗地亚 比利时 1.16 1.30\n",
      "[E组2] 日本 西班牙 0.68 2.24\n",
      "[E组3] 哥斯达 德国 0.47 nan\n",
      "[H组2] 加纳 乌拉圭 0.72 1.83\n",
      "[H组3] 韩国 葡萄牙 0.60 2.13\n",
      "[G组4] 塞尔维亚 瑞士 1.30 1.30\n",
      "[G组3] 喀麦隆 巴西 0.51 2.91\n",
      " 荷兰 美国 1.65 0.62\n",
      " 英格兰 塞内加尔 2.03 0.49\n"
     ]
    },
    {
     "name": "stderr",
     "output_type": "stream",
     "text": [
      "/var/folders/2k/lzky92fs0jq6179hkn52lw7m0000gn/T/ipykernel_17454/155999460.py:23: RuntimeWarning: invalid value encountered in log\n",
      "  mu2 = -np.log(p2)\n"
     ]
    }
   ],
   "source": [
    "for ii in range(len(b['value']['matchInfoList'])):\n",
    "    for jj in range(len(b['value']['matchInfoList'][ii]['subMatchList'])):\n",
    "        m = b['value']['matchInfoList'][ii]['subMatchList'][jj]\n",
    "        d = m['crs']\n",
    "        a = np.arange(36).reshape(6,6)\n",
    "\n",
    "        for i in range(6):\n",
    "            for j in range(6):\n",
    "                a[i][j] = float(d.get('s{:0>2d}s{:0>2d}'.format(i, j), 1e10))\n",
    "        r = 1 / a\n",
    "\n",
    "        p1 = 0\n",
    "        p2 = 0\n",
    "        for i in range(6):\n",
    "            for j in range(6):\n",
    "                if i == 0 and r[i][j] > 1e-10:\n",
    "                    # 有百分之1.5的抽水\n",
    "                    p1 += r[i][j] - 0.015\n",
    "                if j == 0 and r[i][j] > 1e-10:\n",
    "                    p2 += r[i][j] - 0.015\n",
    "\n",
    "        mu1 = -np.log(p1)\n",
    "        mu2 = -np.log(p2)\n",
    "        print(m['homeRank'], m['homeTeamAbbName'], m['awayTeamAbbName'], \n",
    "              '{:.2f}'.format(mu1), '{:.2f}'.format(mu2))"
   ]
  }
 ],
 "metadata": {
  "kernelspec": {
   "display_name": "Python 3 (ipykernel)",
   "language": "python",
   "name": "python3"
  },
  "language_info": {
   "codemirror_mode": {
    "name": "ipython",
    "version": 3
   },
   "file_extension": ".py",
   "mimetype": "text/x-python",
   "name": "python",
   "nbconvert_exporter": "python",
   "pygments_lexer": "ipython3",
   "version": "3.9.12"
  }
 },
 "nbformat": 4,
 "nbformat_minor": 5
}
