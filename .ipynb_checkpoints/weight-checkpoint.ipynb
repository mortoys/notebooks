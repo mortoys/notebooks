{
 "cells": [
  {
   "cell_type": "code",
   "execution_count": 3,
   "id": "eaa718cc",
   "metadata": {},
   "outputs": [],
   "source": [
    "data = pd.read_csv('./HKQuantityTypeIdentifierBodyMass.csv', skiprows=1)"
   ]
  },
  {
   "cell_type": "code",
   "execution_count": 4,
   "id": "2bf5b8d7",
   "metadata": {},
   "outputs": [],
   "source": [
    "data = data[['startDate', 'value']]"
   ]
  },
  {
   "cell_type": "code",
   "execution_count": 5,
   "id": "47515268",
   "metadata": {},
   "outputs": [],
   "source": [
    "# data = pd.DataFrame(dd)"
   ]
  },
  {
   "cell_type": "code",
   "execution_count": 6,
   "id": "4c6ed517",
   "metadata": {},
   "outputs": [],
   "source": [
    "import datetime as dt\n",
    "import seaborn as sns\n",
    "from scipy import stats"
   ]
  },
  {
   "cell_type": "code",
   "execution_count": 7,
   "id": "d8f66eee",
   "metadata": {},
   "outputs": [
    {
     "data": {
      "text/plain": [
       "startDate     object\n",
       "value        float64\n",
       "dtype: object"
      ]
     },
     "execution_count": 7,
     "metadata": {},
     "output_type": "execute_result"
    }
   ],
   "source": [
    "data.dtypes"
   ]
  },
  {
   "cell_type": "code",
   "execution_count": 8,
   "id": "d68c1a2a",
   "metadata": {},
   "outputs": [],
   "source": [
    "# a.dt.tz_convert?"
   ]
  },
  {
   "cell_type": "code",
   "execution_count": 9,
   "id": "c958b4e5",
   "metadata": {},
   "outputs": [],
   "source": [
    "# data['value'] = data['value'].map(float)\n",
    "# data['date'] = pd.to_datetime(data['startDate']).dt.tz_localize(None).dt.tz_localize(tz='Asia/Shanghai')\n",
    "data['date'] = pd.to_datetime(data['startDate']).dt.tz_convert(tz='Asia/Shanghai')\n",
    "data['dt'] = data['date'].map(dt.datetime.timestamp)"
   ]
  },
  {
   "cell_type": "code",
   "execution_count": 10,
   "id": "a006bf94",
   "metadata": {},
   "outputs": [],
   "source": [
    "data['morning'] = data['date'].dt.hour"
   ]
  },
  {
   "cell_type": "code",
   "execution_count": 11,
   "id": "d7559122",
   "metadata": {},
   "outputs": [],
   "source": [
    "data['morning'] = (data['date'].dt.hour > 4) & (data['date'].dt.hour < 14)"
   ]
  },
  {
   "cell_type": "code",
   "execution_count": 12,
   "id": "8961dc2d",
   "metadata": {},
   "outputs": [],
   "source": [
    "data['aa'] = (data['date'].dt.date < dt.date.fromisoformat('2022-04-06')).apply(lambda s: 1 if s else 0)\n",
    "data['bb'] = (data['date'].dt.date < dt.date.fromisoformat('2022-03-24')).apply(lambda s: 1 if s else 0)\n",
    "data['before'] = data.apply(lambda s: s['aa'] + s['bb'], axis=1)"
   ]
  },
  {
   "cell_type": "code",
   "execution_count": 13,
   "id": "e7fd05c7",
   "metadata": {},
   "outputs": [],
   "source": [
    "data['weekend'] = (data['date'].dt.weekday == 6) | (data['date'].dt.weekday == 5)"
   ]
  },
  {
   "cell_type": "code",
   "execution_count": 14,
   "id": "7ddd2014",
   "metadata": {},
   "outputs": [],
   "source": [
    "data['weekday'] = data['date'].dt.weekday"
   ]
  },
  {
   "cell_type": "code",
   "execution_count": 15,
   "id": "f04ecac8",
   "metadata": {},
   "outputs": [],
   "source": [
    "# dd = data[data['before'] == 0]\n",
    "# dd = data.iloc[-60:]\n",
    "dd = data"
   ]
  },
  {
   "cell_type": "code",
   "execution_count": 16,
   "id": "35afc0f2",
   "metadata": {},
   "outputs": [],
   "source": [
    "slope, intercept, r_value, p_value, std_err = stats.linregress(dd['dt'],dd['value'])"
   ]
  },
  {
   "cell_type": "code",
   "execution_count": 17,
   "id": "107bc4f7",
   "metadata": {},
   "outputs": [],
   "source": [
    "daily = -slope * 3600 * 24"
   ]
  },
  {
   "cell_type": "code",
   "execution_count": 18,
   "id": "a8c92c43",
   "metadata": {},
   "outputs": [
    {
     "data": {
      "text/plain": [
       "0.18426918401921"
      ]
     },
     "execution_count": 18,
     "metadata": {},
     "output_type": "execute_result"
    }
   ],
   "source": [
    "daily"
   ]
  },
  {
   "cell_type": "code",
   "execution_count": 19,
   "id": "cde32708",
   "metadata": {},
   "outputs": [
    {
     "data": {
      "text/plain": [
       "67.33999786376953"
      ]
     },
     "execution_count": 19,
     "metadata": {},
     "output_type": "execute_result"
    }
   ],
   "source": [
    "last = dd['value'].iloc[-5:].mean()\n",
    "last"
   ]
  },
  {
   "cell_type": "code",
   "execution_count": 20,
   "id": "44db5694",
   "metadata": {},
   "outputs": [
    {
     "data": {
      "text/plain": [
       "-0.8683065325442276"
      ]
     },
     "execution_count": 20,
     "metadata": {},
     "output_type": "execute_result"
    }
   ],
   "source": [
    "dur = (last - 135/2) / daily\n",
    "dur"
   ]
  },
  {
   "cell_type": "code",
   "execution_count": 21,
   "id": "0f37b65d",
   "metadata": {},
   "outputs": [
    {
     "data": {
      "text/plain": [
       "datetime.date(2022, 6, 2)"
      ]
     },
     "execution_count": 21,
     "metadata": {},
     "output_type": "execute_result"
    }
   ],
   "source": [
    "today = dt.date.today()\n",
    "dt.date.fromordinal(today.toordinal() + int(dur))"
   ]
  },
  {
   "cell_type": "code",
   "execution_count": 22,
   "id": "1093b2cf",
   "metadata": {},
   "outputs": [],
   "source": [
    "# data['logvalue'] = np.log(data['value'])"
   ]
  },
  {
   "cell_type": "code",
   "execution_count": 23,
   "id": "ca41517e",
   "metadata": {},
   "outputs": [
    {
     "name": "stderr",
     "output_type": "stream",
     "text": [
      "/var/folders/s8/k2wnkbc57dz_z2qppnnhcw4c0000gp/T/ipykernel_96455/821770934.py:10: UserWarning: FixedFormatter should only be used together with FixedLocator\n",
      "  ax.set_xticklabels([\n"
     ]
    },
    {
     "data": {
      "text/plain": [
       "[Text(1646000000.0, 0, '2022-02-28'),\n",
       " Text(1647000000.0, 0, '2022-03-11'),\n",
       " Text(1648000000.0, 0, '2022-03-23'),\n",
       " Text(1649000000.0, 0, '2022-04-03'),\n",
       " Text(1650000000.0, 0, '2022-04-15'),\n",
       " Text(1651000000.0, 0, '2022-04-27'),\n",
       " Text(1652000000.0, 0, '2022-05-08'),\n",
       " Text(1653000000.0, 0, '2022-05-20'),\n",
       " Text(1654000000.0, 0, '2022-05-31'),\n",
       " Text(1655000000.0, 0, '2022-06-12')]"
      ]
     },
     "execution_count": 23,
     "metadata": {},
     "output_type": "execute_result"
    },
    {
     "data": {
      "image/png": "[encoded data removed]",
      "text/plain": [
       "<Figure size 903.65x595.44 with 1 Axes>"
      ]
     },
     "metadata": {
      "needs_background": "light"
     },
     "output_type": "display_data"
    }
   ],
   "source": [
    "slope, intercept, r_value, p_value, std_err = stats.linregress(data['dt'],data['value'])\n",
    "\n",
    "p = sns.relplot(data=data, x='dt', y='value', hue='weekend', style='weekday',\n",
    "               height=8.27, aspect=11.7/8.27, #palette=sns.color_palette(\"coolwarm\"),\n",
    "               )\n",
    "\n",
    "ax = plt.gca()\n",
    "# ax.set(xlim=(738220, 738296), ylim=(65, 83.45))\n",
    "xticks = ax.get_xticks()\n",
    "ax.set_xticklabels([\n",
    "    dt.datetime.fromtimestamp(int(tm)).strftime('%Y-%m-%d') for tm in xticks], rotation=30)"
   ]
  },
  {
   "cell_type": "code",
   "execution_count": null,
   "id": "aa834140",
   "metadata": {},
   "outputs": [],
   "source": [
    "from scipy import stats\n",
    "slope, intercept, r_value, p_value, std_err = stats.linregress(data['dt'],data['value'])\n",
    "\n",
    "p = sns.lmplot(data=data, x='dt', y='value', #lowess=True, hue='before',\n",
    "               height=8.27, aspect=11.7/8.27, #palette=sns.color_palette(\"coolwarm\"),\n",
    "                line_kws={'label': \"y={0:.1f}x+{1:.1f}\".format(slope, intercept)})\n",
    "\n",
    "ax = plt.gca()\n",
    "# ax.set(xlim=(738220, 738296), ylim=(65, 83.45))\n",
    "xticks = ax.get_xticks()\n",
    "ax.set_xticklabels([\n",
    "    dt.datetime.fromtimestamp(int(tm)).strftime('%Y-%m-%d') for tm in xticks], rotation=30)"
   ]
  },
  {
   "cell_type": "code",
   "execution_count": null,
   "id": "1db902ca",
   "metadata": {},
   "outputs": [],
   "source": []
  }
 ],
 "metadata": {
  "kernelspec": {
   "display_name": "Python 3 (ipykernel)",
   "language": "python",
   "name": "python3"
  },
  "language_info": {
   "codemirror_mode": {
    "name": "ipython",
    "version": 3
   },
   "file_extension": ".py",
   "mimetype": "text/x-python",
   "name": "python",
   "nbconvert_exporter": "python",
   "pygments_lexer": "ipython3",
   "version": "3.9.12"
  }
 },
 "nbformat": 4,
 "nbformat_minor": 5
}
