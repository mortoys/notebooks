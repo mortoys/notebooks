{
 "cells": [
  {
   "cell_type": "markdown",
   "id": "6efb7c11",
   "metadata": {},
   "source": [
    "## 体重数据的可视化\n",
    "\n",
    "\n",
    "通过 [Simple Health Export CSV](https://apps.apple.com/cn/app/simple-health-export-csv/id1535380115) 可以导出iOS记录的体重秤的数据。\n",
    "\n",
    "\n",
    "在2022年中减肥超过30斤的成功经历中发挥了很大的作用。\n",
    "\n",
    "方法很简单，但是效果很好"
   ]
  },
  {
   "cell_type": "code",
   "execution_count": 102,
   "id": "f813f509",
   "metadata": {},
   "outputs": [],
   "source": [
    "import datetime as dt\n",
    "import seaborn as sns\n",
    "import pandas as pd\n",
    "import matplotlib.pyplot as plt\n",
    "from scipy import stats"
   ]
  },
  {
   "cell_type": "code",
   "execution_count": 94,
   "id": "b81b5adc",
   "metadata": {},
   "outputs": [],
   "source": [
    "table = pd.read_csv('./HKQuantityTypeIdentifierBodyMass.csv', skiprows=1)"
   ]
  },
  {
   "cell_type": "code",
   "execution_count": 95,
   "id": "58d87ee9",
   "metadata": {},
   "outputs": [],
   "source": [
    "data = table[['startDate', 'value']].copy()"
   ]
  },
  {
   "cell_type": "code",
   "execution_count": 96,
   "id": "4bd487a6",
   "metadata": {},
   "outputs": [
    {
     "data": {
      "text/html": [
       "<div>\n",
       "<style scoped>\n",
       "    .dataframe tbody tr th:only-of-type {\n",
       "        vertical-align: middle;\n",
       "    }\n",
       "\n",
       "    .dataframe tbody tr th {\n",
       "        vertical-align: top;\n",
       "    }\n",
       "\n",
       "    .dataframe thead th {\n",
       "        text-align: right;\n",
       "    }\n",
       "</style>\n",
       "<table border=\"1\" class=\"dataframe\">\n",
       "  <thead>\n",
       "    <tr style=\"text-align: right;\">\n",
       "      <th></th>\n",
       "      <th>startDate</th>\n",
       "      <th>value</th>\n",
       "    </tr>\n",
       "  </thead>\n",
       "  <tbody>\n",
       "    <tr>\n",
       "      <th>0</th>\n",
       "      <td>2022-03-11 13:31:34 +0000</td>\n",
       "      <td>83.049995</td>\n",
       "    </tr>\n",
       "    <tr>\n",
       "      <th>1</th>\n",
       "      <td>2022-03-11 13:31:34 +0000</td>\n",
       "      <td>83.049995</td>\n",
       "    </tr>\n",
       "    <tr>\n",
       "      <th>2</th>\n",
       "      <td>2022-03-12 15:48:34 +0000</td>\n",
       "      <td>81.650002</td>\n",
       "    </tr>\n",
       "    <tr>\n",
       "      <th>3</th>\n",
       "      <td>2022-03-12 15:48:34 +0000</td>\n",
       "      <td>81.650002</td>\n",
       "    </tr>\n",
       "    <tr>\n",
       "      <th>4</th>\n",
       "      <td>2022-03-12 15:48:50 +0000</td>\n",
       "      <td>81.650002</td>\n",
       "    </tr>\n",
       "    <tr>\n",
       "      <th>...</th>\n",
       "      <td>...</td>\n",
       "      <td>...</td>\n",
       "    </tr>\n",
       "    <tr>\n",
       "      <th>514</th>\n",
       "      <td>2022-05-28 12:10:35 +0000</td>\n",
       "      <td>68.150002</td>\n",
       "    </tr>\n",
       "    <tr>\n",
       "      <th>515</th>\n",
       "      <td>2022-05-29 23:09:12 +0000</td>\n",
       "      <td>69.000000</td>\n",
       "    </tr>\n",
       "    <tr>\n",
       "      <th>516</th>\n",
       "      <td>2022-05-29 23:09:12 +0000</td>\n",
       "      <td>69.000000</td>\n",
       "    </tr>\n",
       "    <tr>\n",
       "      <th>517</th>\n",
       "      <td>2022-05-29 23:09:18 +0000</td>\n",
       "      <td>69.000000</td>\n",
       "    </tr>\n",
       "    <tr>\n",
       "      <th>518</th>\n",
       "      <td>2022-05-29 23:09:18 +0000</td>\n",
       "      <td>69.000000</td>\n",
       "    </tr>\n",
       "  </tbody>\n",
       "</table>\n",
       "<p>519 rows × 2 columns</p>\n",
       "</div>"
      ],
      "text/plain": [
       "                     startDate      value\n",
       "0    2022-03-11 13:31:34 +0000  83.049995\n",
       "1    2022-03-11 13:31:34 +0000  83.049995\n",
       "2    2022-03-12 15:48:34 +0000  81.650002\n",
       "3    2022-03-12 15:48:34 +0000  81.650002\n",
       "4    2022-03-12 15:48:50 +0000  81.650002\n",
       "..                         ...        ...\n",
       "514  2022-05-28 12:10:35 +0000  68.150002\n",
       "515  2022-05-29 23:09:12 +0000  69.000000\n",
       "516  2022-05-29 23:09:12 +0000  69.000000\n",
       "517  2022-05-29 23:09:18 +0000  69.000000\n",
       "518  2022-05-29 23:09:18 +0000  69.000000\n",
       "\n",
       "[519 rows x 2 columns]"
      ]
     },
     "execution_count": 96,
     "metadata": {},
     "output_type": "execute_result"
    }
   ],
   "source": [
    "data"
   ]
  },
  {
   "cell_type": "code",
   "execution_count": 97,
   "id": "e0ef9512",
   "metadata": {},
   "outputs": [
    {
     "data": {
      "text/plain": [
       "startDate     object\n",
       "value        float64\n",
       "dtype: object"
      ]
     },
     "execution_count": 97,
     "metadata": {},
     "output_type": "execute_result"
    }
   ],
   "source": [
    "data.dtypes"
   ]
  },
  {
   "cell_type": "markdown",
   "id": "f92fb00a",
   "metadata": {},
   "source": [
    "将时间换算成时间戳"
   ]
  },
  {
   "cell_type": "code",
   "execution_count": 98,
   "id": "e78fc368",
   "metadata": {},
   "outputs": [],
   "source": [
    "data['startDate'] = pd.to_datetime(data['startDate']).dt.tz_convert(tz='Asia/Shanghai')\n",
    "data['dt'] = data['startDate'].map(dt.datetime.timestamp)"
   ]
  },
  {
   "cell_type": "code",
   "execution_count": 99,
   "id": "d50a536f",
   "metadata": {},
   "outputs": [
    {
     "data": {
      "text/html": [
       "<div>\n",
       "<style scoped>\n",
       "    .dataframe tbody tr th:only-of-type {\n",
       "        vertical-align: middle;\n",
       "    }\n",
       "\n",
       "    .dataframe tbody tr th {\n",
       "        vertical-align: top;\n",
       "    }\n",
       "\n",
       "    .dataframe thead th {\n",
       "        text-align: right;\n",
       "    }\n",
       "</style>\n",
       "<table border=\"1\" class=\"dataframe\">\n",
       "  <thead>\n",
       "    <tr style=\"text-align: right;\">\n",
       "      <th></th>\n",
       "      <th>startDate</th>\n",
       "      <th>value</th>\n",
       "      <th>dt</th>\n",
       "    </tr>\n",
       "  </thead>\n",
       "  <tbody>\n",
       "    <tr>\n",
       "      <th>0</th>\n",
       "      <td>2022-03-11 21:31:34+08:00</td>\n",
       "      <td>83.049995</td>\n",
       "      <td>1.647005e+09</td>\n",
       "    </tr>\n",
       "    <tr>\n",
       "      <th>1</th>\n",
       "      <td>2022-03-11 21:31:34+08:00</td>\n",
       "      <td>83.049995</td>\n",
       "      <td>1.647005e+09</td>\n",
       "    </tr>\n",
       "    <tr>\n",
       "      <th>2</th>\n",
       "      <td>2022-03-12 23:48:34+08:00</td>\n",
       "      <td>81.650002</td>\n",
       "      <td>1.647100e+09</td>\n",
       "    </tr>\n",
       "    <tr>\n",
       "      <th>3</th>\n",
       "      <td>2022-03-12 23:48:34+08:00</td>\n",
       "      <td>81.650002</td>\n",
       "      <td>1.647100e+09</td>\n",
       "    </tr>\n",
       "    <tr>\n",
       "      <th>4</th>\n",
       "      <td>2022-03-12 23:48:50+08:00</td>\n",
       "      <td>81.650002</td>\n",
       "      <td>1.647100e+09</td>\n",
       "    </tr>\n",
       "    <tr>\n",
       "      <th>...</th>\n",
       "      <td>...</td>\n",
       "      <td>...</td>\n",
       "      <td>...</td>\n",
       "    </tr>\n",
       "    <tr>\n",
       "      <th>514</th>\n",
       "      <td>2022-05-28 20:10:35+08:00</td>\n",
       "      <td>68.150002</td>\n",
       "      <td>1.653740e+09</td>\n",
       "    </tr>\n",
       "    <tr>\n",
       "      <th>515</th>\n",
       "      <td>2022-05-30 07:09:12+08:00</td>\n",
       "      <td>69.000000</td>\n",
       "      <td>1.653866e+09</td>\n",
       "    </tr>\n",
       "    <tr>\n",
       "      <th>516</th>\n",
       "      <td>2022-05-30 07:09:12+08:00</td>\n",
       "      <td>69.000000</td>\n",
       "      <td>1.653866e+09</td>\n",
       "    </tr>\n",
       "    <tr>\n",
       "      <th>517</th>\n",
       "      <td>2022-05-30 07:09:18+08:00</td>\n",
       "      <td>69.000000</td>\n",
       "      <td>1.653866e+09</td>\n",
       "    </tr>\n",
       "    <tr>\n",
       "      <th>518</th>\n",
       "      <td>2022-05-30 07:09:18+08:00</td>\n",
       "      <td>69.000000</td>\n",
       "      <td>1.653866e+09</td>\n",
       "    </tr>\n",
       "  </tbody>\n",
       "</table>\n",
       "<p>519 rows × 3 columns</p>\n",
       "</div>"
      ],
      "text/plain": [
       "                    startDate      value            dt\n",
       "0   2022-03-11 21:31:34+08:00  83.049995  1.647005e+09\n",
       "1   2022-03-11 21:31:34+08:00  83.049995  1.647005e+09\n",
       "2   2022-03-12 23:48:34+08:00  81.650002  1.647100e+09\n",
       "3   2022-03-12 23:48:34+08:00  81.650002  1.647100e+09\n",
       "4   2022-03-12 23:48:50+08:00  81.650002  1.647100e+09\n",
       "..                        ...        ...           ...\n",
       "514 2022-05-28 20:10:35+08:00  68.150002  1.653740e+09\n",
       "515 2022-05-30 07:09:12+08:00  69.000000  1.653866e+09\n",
       "516 2022-05-30 07:09:12+08:00  69.000000  1.653866e+09\n",
       "517 2022-05-30 07:09:18+08:00  69.000000  1.653866e+09\n",
       "518 2022-05-30 07:09:18+08:00  69.000000  1.653866e+09\n",
       "\n",
       "[519 rows x 3 columns]"
      ]
     },
     "execution_count": 99,
     "metadata": {},
     "output_type": "execute_result"
    }
   ],
   "source": [
    "data"
   ]
  },
  {
   "cell_type": "code",
   "execution_count": 103,
   "id": "f31979bf",
   "metadata": {},
   "outputs": [],
   "source": [
    "slope, intercept, r_value, p_value, std_err = stats.linregress(data['dt'],data['value'])"
   ]
  },
  {
   "cell_type": "code",
   "execution_count": 107,
   "id": "0f342026",
   "metadata": {},
   "outputs": [
    {
     "name": "stderr",
     "output_type": "stream",
     "text": [
      "/var/folders/2k/lzky92fs0jq6179hkn52lw7m0000gn/T/ipykernel_18614/2088637077.py:8: UserWarning: FixedFormatter should only be used together with FixedLocator\n",
      "  ax.set_xticklabels([\n"
     ]
    },
    {
     "data": {
      "text/plain": [
       "[Text(1646000000.0, 0, '2022-02-28'),\n",
       " Text(1647000000.0, 0, '2022-03-11'),\n",
       " Text(1648000000.0, 0, '2022-03-23'),\n",
       " Text(1649000000.0, 0, '2022-04-03'),\n",
       " Text(1650000000.0, 0, '2022-04-15'),\n",
       " Text(1651000000.0, 0, '2022-04-27'),\n",
       " Text(1652000000.0, 0, '2022-05-08'),\n",
       " Text(1653000000.0, 0, '2022-05-20'),\n",
       " Text(1654000000.0, 0, '2022-05-31'),\n",
       " Text(1655000000.0, 0, '2022-06-12')]"
      ]
     },
     "execution_count": 107,
     "metadata": {},
     "output_type": "execute_result"
    },
    {
     "data": {
      "image/png": "[encoded data removed]",
      "text/plain": [
       "<Figure size 842.4x595.44 with 1 Axes>"
      ]
     },
     "metadata": {
      "needs_background": "light"
     },
     "output_type": "display_data"
    }
   ],
   "source": [
    "p = sns.lmplot(data=data, x='dt', y='value', #lowess=True,\n",
    "               height=8.27, aspect=11.7/8.27, \n",
    "#                line_kws={'label': \"y={0:.1f}x+{1:.1f}\".format(slope, intercept)}\n",
    "              )\n",
    "\n",
    "ax = plt.gca()\n",
    "xticks = ax.get_xticks()\n",
    "ax.set_xticklabels([\n",
    "    dt.datetime.fromtimestamp(int(tm)).strftime('%Y-%m-%d') for tm in xticks], rotation=30)"
   ]
  },
  {
   "cell_type": "markdown",
   "id": "505650e3",
   "metadata": {},
   "source": [
    "和线性模型吻合的非常好"
   ]
  },
  {
   "cell_type": "code",
   "execution_count": 86,
   "id": "124be126",
   "metadata": {},
   "outputs": [],
   "source": [
    "slope, intercept, r_value, p_value, std_err = stats.linregress(data['dt'],data['value'])"
   ]
  },
  {
   "cell_type": "code",
   "execution_count": 87,
   "id": "7ec94b2d",
   "metadata": {},
   "outputs": [
    {
     "data": {
      "text/plain": [
       "0.1831754849190555"
      ]
     },
     "execution_count": 87,
     "metadata": {},
     "output_type": "execute_result"
    }
   ],
   "source": [
    "daily = -slope * 3600 * 24\n",
    "daily"
   ]
  },
  {
   "cell_type": "markdown",
   "id": "2bc3a1ce",
   "metadata": {},
   "source": [
    "斜率是 0.18kg，相当于每日0.36斤"
   ]
  },
  {
   "cell_type": "markdown",
   "id": "a5509b2e",
   "metadata": {},
   "source": []
  }
 ],
 "metadata": {
  "kernelspec": {
   "display_name": "Python 3 (ipykernel)",
   "language": "python",
   "name": "python3"
  },
  "language_info": {
   "codemirror_mode": {
    "name": "ipython",
    "version": 3
   },
   "file_extension": ".py",
   "mimetype": "text/x-python",
   "name": "python",
   "nbconvert_exporter": "python",
   "pygments_lexer": "ipython3",
   "version": "3.9.12"
  }
 },
 "nbformat": 4,
 "nbformat_minor": 5
}
